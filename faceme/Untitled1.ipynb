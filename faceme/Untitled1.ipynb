{
 "cells": [
  {
   "cell_type": "code",
   "execution_count": 4,
   "metadata": {
    "collapsed": false
   },
   "outputs": [
    {
     "name": "stdout",
     "output_type": "stream",
     "text": [
      "Data fetched :P\n",
      "[{'name': 'Vijay Singh', 'id': '566651146851386', 'likes': 13}, {'name': 'Golden Evelyne Rich', 'id': '1805025656405878', 'likes': 1}]\n",
      "[{'value': 124, 'label': 'total activities'}, {'value': 2, 'label': 'max likes on a post'}, {'value': 14, 'label': 'total no of likes'}]\n"
     ]
    }
   ],
   "source": [
    "    tok = \"EAAZAtnvu9OZCUBAGyCiglrfuFHBSGZAKnPZCNUJZCiIxoUWU0bUT9JELJrEUJP3Dp7eiO39GZB84Ol5iWmZAPhL02E0jn3vLvZANEF1ZAWUKOvWknUwp5UPzkWWXcbiybz9ZA9pnEHqnqcxduw19ZC5UTZAU9MYWsXPt0qpjaW3dKnVKPQZDZD\"\n",
    "    graph = facebook.GraphAPI(access_token=tok, version='2.7')\n",
    "    post = graph.get_connections(id='me', connection_name='posts',limit=500)\n",
    "    d = post['data']\n",
    "    li =[]\n",
    "    for i in d:\n",
    "        li.append(i['id'])\n",
    "    new = []\n",
    "    for i in li:\n",
    "        like = graph.get_connections(id=i, connection_name='likes',limit=500)\n",
    "        new.append(like['data'])\n",
    "    na = []\n",
    "    l=len(new)\n",
    "    for i in range(0,l):\n",
    "        for k in new[i]:\n",
    "            na.append(k['name'])\n",
    "    \n",
    "    c = Counter(na)\n",
    "    sor = sorted(c.items(), key=operator.itemgetter(1),reverse=True)\n",
    "    zz= len(sor)\n",
    "    if(zz>=5):\n",
    "        zz=5\n",
    "    toplike = sor[0:zz]\n",
    "\n",
    "    fr = []\n",
    "\n",
    "    for r in range(0,zz):\n",
    "        for i in range(0,l):\n",
    "            for k in new[i]:\n",
    "                if(k['name']==toplike[r][0] and k['id'] not in fr):\n",
    "                    fr.append(k['id'])\n",
    "                    break\n",
    "    sol= []\n",
    "    for z in range(0,zz):\n",
    "        sol.append({'name':toplike[z][0],'id':fr[z], 'likes':toplike[z][1]})\n",
    "\n",
    "    tl = len(d)\n",
    "\n",
    "    maxx=0\n",
    "    for i in range(0,l):\n",
    "        if(len(new[i]) > maxx):\n",
    "           maxx = len(new[i])\n",
    "\n",
    "    su=0\n",
    "    for i in range(0,l):\n",
    "        su = su+len(new[i])\n",
    "    print(\"Data fetched :P\")\n",
    "    di = [{'value':tl,'label':'total activities'},\n",
    "        {'value':maxx,'label':'max likes on a post'},\n",
    "        {'value':su,'label':'total no of likes'}\n",
    "    ]\n",
    "    print(sol)\n",
    "    print(di)"
   ]
  },
  {
   "cell_type": "code",
   "execution_count": 2,
   "metadata": {
    "collapsed": true
   },
   "outputs": [],
   "source": [
    "import facebook\n",
    "import operator\n",
    "from collections import Counter\n",
    "import time\n",
    "import datetime\n",
    "from operator import itemgetter\n",
    "import requests"
   ]
  }
 ],
 "metadata": {
  "kernelspec": {
   "display_name": "Python 3",
   "language": "python",
   "name": "python3"
  },
  "language_info": {
   "codemirror_mode": {
    "name": "ipython",
    "version": 3
   },
   "file_extension": ".py",
   "mimetype": "text/x-python",
   "name": "python",
   "nbconvert_exporter": "python",
   "pygments_lexer": "ipython3",
   "version": "3.5.2"
  }
 },
 "nbformat": 4,
 "nbformat_minor": 1
}
